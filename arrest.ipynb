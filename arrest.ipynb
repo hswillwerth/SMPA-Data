{
 "cells": [
  {
   "cell_type": "code",
   "execution_count": 102,
   "metadata": {
    "collapsed": false
   },
   "outputs": [
    {
     "name": "stdout",
     "output_type": "stream",
     "text": [
      "| column         | data_type |\n",
      "| -------------- | --------- |\n",
      "| LName          | Text      |\n",
      "| FName          | Text      |\n",
      "| MName          | Text      |\n",
      "| Age            | Number    |\n",
      "| DateArr        | Date      |\n",
      "| Charge         | Text      |\n",
      "| Charge Descrip | Text      |\n",
      "| Address        | Text      |\n",
      "\n",
      "| column | data_type |\n",
      "| ------ | --------- |\n",
      "| Age    | Number    |\n",
      "| Count  | Number    |\n",
      "\n",
      "| Age | Count |\n",
      "| --- | ----- |\n",
      "|  35 |    88 |\n",
      "|  33 |    95 |\n",
      "|  24 |   158 |\n",
      "|  29 |   111 |\n",
      "|  19 |   167 |\n",
      "|  21 |   161 |\n",
      "|  63 |     7 |\n",
      "|  31 |   124 |\n",
      "|  25 |   160 |\n",
      "|  43 |    43 |\n",
      "|  34 |    71 |\n",
      "|  22 |   177 |\n",
      "|  51 |    29 |\n",
      "|  36 |    75 |\n",
      "|  64 |     4 |\n",
      "|  27 |   169 |\n",
      "|  59 |    18 |\n",
      "|  53 |    26 |\n",
      "|  65 |     5 |\n",
      "|  48 |    40 |\n",
      "| ... |   ... |\n",
      "| column         | data_type |\n",
      "| -------------- | --------- |\n",
      "| Charge Descrip | Text      |\n",
      "| age_median     | Number    |\n",
      "\n",
      "| Charge Descrip       | age_median |\n",
      "| -------------------- | ---------- |\n",
      "| PETIT LARCENY: <$... |       27.0 |\n",
      "| LICENSE: DRIVE W/... |       30.0 |\n",
      "| LICENSE: DRIVE W/... |       28.0 |\n",
      "| GRAND LARCENY: $2... |       29.0 |\n",
      "| BURGLARIOUS TOOLS... |       31.0 |\n",
      "| IDENTITY THEFT: O... |       19.0 |\n",
      "| DRUGS: POSSESS MA... |       23.0 |\n",
      "| LIC REVOKED: DR W... |       30.0 |\n",
      "| LIC REVOKED: DR W... |       30.0 |\n",
      "| RECKLE/20 MPH OVE... |       27.5 |\n",
      "| DRUNK IN PUBLIC O... |       32.0 |\n",
      "| TRESPASS: AFTER B... |       38.0 |\n",
      "| FAILURE TO APPEAR... |       27.0 |\n",
      "| IDENTITY THEFT: O... |       21.5 |\n",
      "| DRUGS: POSSESS SC... |       29.0 |\n",
      "| DRUGS: DISTRIB/PW... |       24.0 |\n",
      "| PARAPHERNALIA: UN... |       31.0 |\n",
      "| INSUR: OPERATE UN... |       30.0 |\n",
      "| ASSAULT: ON FAMIL... |       33.5 |\n",
      "| PHONE: INJURE/TAP... |       30.5 |\n",
      "| ...                  |        ... |\n"
     ]
    },
    {
     "ename": "IndexError",
     "evalue": "tuple index out of range",
     "output_type": "error",
     "traceback": [
      "\u001b[0;31m---------------------------------------------------------------------------\u001b[0m",
      "\u001b[0;31mIndexError\u001b[0m                                Traceback (most recent call last)",
      "\u001b[0;32m<ipython-input-102-77c6c88d07d6>\u001b[0m in \u001b[0;36m<module>\u001b[0;34m()\u001b[0m\n\u001b[1;32m     17\u001b[0m \u001b[0mAlexandria2\u001b[0m \u001b[0;34m=\u001b[0m \u001b[0marrests\u001b[0m\u001b[0;34m.\u001b[0m\u001b[0mwhere\u001b[0m\u001b[0;34m(\u001b[0m\u001b[0;32mlambda\u001b[0m \u001b[0mrow\u001b[0m\u001b[0;34m:\u001b[0m \u001b[0;34m'Alex'\u001b[0m \u001b[0;32min\u001b[0m \u001b[0mrow\u001b[0m\u001b[0;34m[\u001b[0m\u001b[0;34m'Address'\u001b[0m\u001b[0;34m]\u001b[0m\u001b[0;34m)\u001b[0m\u001b[0;34m\u001b[0m\u001b[0m\n\u001b[1;32m     18\u001b[0m \u001b[0marrests\u001b[0m\u001b[0;34m.\u001b[0m\u001b[0mwhere\u001b[0m\u001b[0;34m(\u001b[0m\u001b[0;32mlambda\u001b[0m \u001b[0mrow\u001b[0m\u001b[0;34m:\u001b[0m \u001b[0;34m'Alex'\u001b[0m \u001b[0;32min\u001b[0m \u001b[0mrow\u001b[0m\u001b[0;34m[\u001b[0m\u001b[0;34m'Address'\u001b[0m\u001b[0;34m]\u001b[0m\u001b[0;34m)\u001b[0m\u001b[0;34m\u001b[0m\u001b[0m\n\u001b[0;32m---> 19\u001b[0;31m \u001b[0mAlexandria3\u001b[0m \u001b[0;34m=\u001b[0m \u001b[0mAlexandria2\u001b[0m\u001b[0;34m.\u001b[0m\u001b[0mpivot\u001b[0m\u001b[0;34m(\u001b[0m\u001b[0;34m'Address'\u001b[0m\u001b[0;34m)\u001b[0m\u001b[0;34m\u001b[0m\u001b[0m\n\u001b[0m",
      "\u001b[0;32m/Users/hannawillwerth/.virtualenvs/exercises/lib/python2.7/site-packages/agate/table/pivot.pyc\u001b[0m in \u001b[0;36mpivot\u001b[0;34m(self, key, pivot, aggregation, computation, default_value, key_name)\u001b[0m\n\u001b[1;32m     94\u001b[0m \u001b[0;34m\u001b[0m\u001b[0m\n\u001b[1;32m     95\u001b[0m     \u001b[0;32mfor\u001b[0m \u001b[0mk\u001b[0m \u001b[0;32min\u001b[0m \u001b[0mkey\u001b[0m\u001b[0;34m:\u001b[0m\u001b[0;34m\u001b[0m\u001b[0m\n\u001b[0;32m---> 96\u001b[0;31m         \u001b[0mgroups\u001b[0m \u001b[0;34m=\u001b[0m \u001b[0mgroups\u001b[0m\u001b[0;34m.\u001b[0m\u001b[0mgroup_by\u001b[0m\u001b[0;34m(\u001b[0m\u001b[0mk\u001b[0m\u001b[0;34m,\u001b[0m \u001b[0mkey_name\u001b[0m\u001b[0;34m=\u001b[0m\u001b[0mkey_name\u001b[0m\u001b[0;34m)\u001b[0m\u001b[0;34m\u001b[0m\u001b[0m\n\u001b[0m\u001b[1;32m     97\u001b[0m \u001b[0;34m\u001b[0m\u001b[0m\n\u001b[1;32m     98\u001b[0m     \u001b[0maggregation_name\u001b[0m \u001b[0;34m=\u001b[0m \u001b[0msix\u001b[0m\u001b[0;34m.\u001b[0m\u001b[0mtext_type\u001b[0m\u001b[0;34m(\u001b[0m\u001b[0maggregation\u001b[0m\u001b[0;34m)\u001b[0m\u001b[0;34m\u001b[0m\u001b[0m\n",
      "\u001b[0;32m/Users/hannawillwerth/.virtualenvs/exercises/lib/python2.7/site-packages/agate/table/group_by.pyc\u001b[0m in \u001b[0;36mgroup_by\u001b[0;34m(self, key, key_name, key_type)\u001b[0m\n\u001b[1;32m     61\u001b[0m         \u001b[0moutput\u001b[0m\u001b[0;34m[\u001b[0m\u001b[0mgroup\u001b[0m\u001b[0;34m]\u001b[0m \u001b[0;34m=\u001b[0m \u001b[0mself\u001b[0m\u001b[0;34m.\u001b[0m\u001b[0m_fork\u001b[0m\u001b[0;34m(\u001b[0m\u001b[0mrows\u001b[0m\u001b[0;34m)\u001b[0m\u001b[0;34m\u001b[0m\u001b[0m\n\u001b[1;32m     62\u001b[0m \u001b[0;34m\u001b[0m\u001b[0m\n\u001b[0;32m---> 63\u001b[0;31m     \u001b[0;32mreturn\u001b[0m \u001b[0mTableSet\u001b[0m\u001b[0;34m(\u001b[0m\u001b[0moutput\u001b[0m\u001b[0;34m.\u001b[0m\u001b[0mvalues\u001b[0m\u001b[0;34m(\u001b[0m\u001b[0;34m)\u001b[0m\u001b[0;34m,\u001b[0m \u001b[0moutput\u001b[0m\u001b[0;34m.\u001b[0m\u001b[0mkeys\u001b[0m\u001b[0;34m(\u001b[0m\u001b[0;34m)\u001b[0m\u001b[0;34m,\u001b[0m \u001b[0mkey_name\u001b[0m\u001b[0;34m=\u001b[0m\u001b[0mkey_name\u001b[0m\u001b[0;34m,\u001b[0m \u001b[0mkey_type\u001b[0m\u001b[0;34m=\u001b[0m\u001b[0mkey_type\u001b[0m\u001b[0;34m)\u001b[0m\u001b[0;34m\u001b[0m\u001b[0m\n\u001b[0m",
      "\u001b[0;32m/Users/hannawillwerth/.virtualenvs/exercises/lib/python2.7/site-packages/agate/tableset/__init__.pyc\u001b[0m in \u001b[0;36m__init__\u001b[0;34m(self, tables, keys, key_name, key_type, _is_fork)\u001b[0m\n\u001b[1;32m     66\u001b[0m         \u001b[0mself\u001b[0m\u001b[0;34m.\u001b[0m\u001b[0m_key_name\u001b[0m \u001b[0;34m=\u001b[0m \u001b[0mkey_name\u001b[0m\u001b[0;34m\u001b[0m\u001b[0m\n\u001b[1;32m     67\u001b[0m         \u001b[0mself\u001b[0m\u001b[0;34m.\u001b[0m\u001b[0m_key_type\u001b[0m \u001b[0;34m=\u001b[0m \u001b[0mkey_type\u001b[0m \u001b[0;32mor\u001b[0m \u001b[0mText\u001b[0m\u001b[0;34m(\u001b[0m\u001b[0;34m)\u001b[0m\u001b[0;34m\u001b[0m\u001b[0m\n\u001b[0;32m---> 68\u001b[0;31m         \u001b[0mself\u001b[0m\u001b[0;34m.\u001b[0m\u001b[0m_sample_table\u001b[0m \u001b[0;34m=\u001b[0m \u001b[0mtables\u001b[0m\u001b[0;34m[\u001b[0m\u001b[0;36m0\u001b[0m\u001b[0;34m]\u001b[0m\u001b[0;34m\u001b[0m\u001b[0m\n\u001b[0m\u001b[1;32m     69\u001b[0m \u001b[0;34m\u001b[0m\u001b[0m\n\u001b[1;32m     70\u001b[0m         \u001b[0;32mwhile\u001b[0m \u001b[0misinstance\u001b[0m\u001b[0;34m(\u001b[0m\u001b[0mself\u001b[0m\u001b[0;34m.\u001b[0m\u001b[0m_sample_table\u001b[0m\u001b[0;34m,\u001b[0m \u001b[0mTableSet\u001b[0m\u001b[0;34m)\u001b[0m\u001b[0;34m:\u001b[0m\u001b[0;34m\u001b[0m\u001b[0m\n",
      "\u001b[0;31mIndexError\u001b[0m: tuple index out of range"
     ]
    },
    {
     "name": "stderr",
     "output_type": "stream",
     "text": [
      "/System/Library/Frameworks/Python.framework/Versions/2.7/lib/python2.7/json/encoder.py:207: DeprecationWarning: Interpreting naive datetime as local 2017-02-27 17:47:16.577038. Please add timezone info to timestamps.\n"
     ]
    }
   ],
   "source": [
    "import agate\n",
    "arrests = agate.Table.from_csv(\"arrest.csv\")\n",
    "print results\n",
    "arrests.aggregate(agate.Count('Charge Descrip',None))\n",
    "Age_Count = arrests.pivot('Age')\n",
    "print Age_Count\n",
    "Age_Count.print_table()\n",
    "arrests.aggregate(agate.Median('Age'))\n",
    "chargedescrip = arrests.group_by('Charge Descrip')\n",
    "Charge_Descrip_by_median_age = chargedescrip.aggregate([\n",
    "    ('age_median', agate.Median('Age'))\n",
    "])\n",
    "print Charge_Descrip_by_median_age \n",
    "Charge_Descrip_by_median_age.print_table()\n",
    "Alexandria = arrests.where(lambda r: r['Address'] == 'Alexandria')\n",
    "import re\n",
    "Alexandria2 = arrests.where(lambda row: 'Alex' in row['Address'])"
   ]
  },
  {
   "cell_type": "code",
   "execution_count": null,
   "metadata": {
    "collapsed": true
   },
   "outputs": [],
   "source": []
  }
 ],
 "metadata": {
  "kernelspec": {
   "display_name": "Python 2",
   "language": "python",
   "name": "python2"
  },
  "language_info": {
   "codemirror_mode": {
    "name": "ipython",
    "version": 2
   },
   "file_extension": ".py",
   "mimetype": "text/x-python",
   "name": "python",
   "nbconvert_exporter": "python",
   "pygments_lexer": "ipython2",
   "version": "2.7.10"
  }
 },
 "nbformat": 4,
 "nbformat_minor": 2
}
